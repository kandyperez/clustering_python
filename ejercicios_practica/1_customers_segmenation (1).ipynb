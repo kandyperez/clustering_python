{
  "cells": [
    {
      "cell_type": "markdown",
      "metadata": {
        "id": "Ea9CPlvttQda"
      },
      "source": [
        "<a href=\"https://www.inove.com.ar\"><img src=\"https://raw.githubusercontent.com/InoveAlumnos/dataset_analytics_python/master/images/PA%20Banner.png\" width=\"1000\" align=\"center\"></a>\n",
        "\n",
        "\n",
        "# Segmentación de clientes\n",
        "\n",
        "Crear un modelo de segmentación para la estimación de los tipos de clientes que van de compras a un shoping<br>\n",
        "v1.1"
      ]
    },
    {
      "cell_type": "code",
      "execution_count": null,
      "metadata": {
        "id": "xJN8ND5ctQdc"
      },
      "outputs": [],
      "source": [
        "import os\n",
        "import platform\n",
        "\n",
        "import numpy as np\n",
        "import matplotlib.pyplot as plt\n",
        "import seaborn as sns\n",
        "import pandas as pd"
      ]
    },
    {
      "cell_type": "markdown",
      "metadata": {
        "id": "v-jK-TsQCwW9"
      },
      "source": [
        "# Recolectar datos\n",
        "<div align=\"center\"><img src=\"https://raw.githubusercontent.com/InoveAlumnos/dataset_analytics_python/master/images/Pipeline1.png\" width=\"1000\" align=\"middle\"></div>"
      ]
    },
    {
      "cell_type": "code",
      "execution_count": null,
      "metadata": {
        "colab": {
          "base_uri": "https://localhost:8080/"
        },
        "id": "E7lED92mqYMN",
        "outputId": "f6b314f3-de95-4077-a19d-69da3c2f565a"
      },
      "outputs": [
        {
          "output_type": "stream",
          "name": "stdout",
          "text": [
            "--2024-09-18 16:36:38--  http://mall_customers.csv/\n",
            "Resolving mall_customers.csv (mall_customers.csv)... failed: Name or service not known.\n",
            "wget: unable to resolve host address ‘mall_customers.csv’\n",
            "--2024-09-18 16:36:38--  https://raw.githubusercontent.com/InoveAlumnos/dataset_analytics_python/master/Mall_Customers.csv\n",
            "Resolving raw.githubusercontent.com (raw.githubusercontent.com)... 185.199.108.133, 185.199.109.133, 185.199.110.133, ...\n",
            "Connecting to raw.githubusercontent.com (raw.githubusercontent.com)|185.199.108.133|:443... connected.\n",
            "HTTP request sent, awaiting response... 200 OK\n",
            "Length: 3981 (3.9K) [text/plain]\n",
            "Saving to: ‘Mall_Customers.csv’\n",
            "\n",
            "Mall_Customers.csv  100%[===================>]   3.89K  --.-KB/s    in 0s      \n",
            "\n",
            "2024-09-18 16:36:39 (53.4 MB/s) - ‘Mall_Customers.csv’ saved [3981/3981]\n",
            "\n",
            "FINISHED --2024-09-18 16:36:39--\n",
            "Total wall clock time: 0.6s\n",
            "Downloaded: 1 files, 3.9K in 0s (53.4 MB/s)\n"
          ]
        }
      ],
      "source": [
        "if os.access('Mall_Customers.csv', os.F_OK) is False:\n",
        "    if platform.system() == 'Windows':\n",
        "        !curl https://raw.githubusercontent.com/InoveAlumnos/dataset_analytics_python/master/Mall_Customers.csv > Mall_Customers.csv\n",
        "    else:\n",
        "        !wget Mall_Customers.csv https://raw.githubusercontent.com/InoveAlumnos/dataset_analytics_python/master/Mall_Customers.csv"
      ]
    },
    {
      "cell_type": "markdown",
      "metadata": {
        "id": "7hYHWckmsssa"
      },
      "source": [
        "### `Mall_Customers.csv`:\n",
        "El dataset **`Mall_Customers.csv`** contiene datos sobre clientes que asisten al shopping a comprar, y sus características de consumo.<br>\n",
        "[Dataset source](https://www.kaggle.com/vjchoudhary7/customer-segmentation-tutorial-in-python)\n",
        "- **CustomerID** --> id del comprador, ejemplo 5\n",
        "- **Gender** --> género, masculino (Male) o femenino (female)\n",
        "- **Age** --> edad\n",
        "- **Annual Income** --> ingreso de dinero anual de la persona en miles de dolares\n",
        "- **Spending socre** --> que tan gastador es la persona (de 1 a 100)"
      ]
    },
    {
      "cell_type": "code",
      "execution_count": null,
      "metadata": {
        "id": "GChnsEZeszqi"
      },
      "outputs": [],
      "source": [
        "df = pd.read_csv(\"Mall_Customers.csv\")"
      ]
    },
    {
      "cell_type": "markdown",
      "metadata": {
        "id": "Q5I6l8ZCFaZ8"
      },
      "source": [
        "# Procesar datos\n",
        "<div align=\"center\"><img src=\"https://raw.githubusercontent.com/InoveAlumnos/dataset_analytics_python/master/images/Pipeline2.png\" width=\"1000\" align=\"middle\"></div>"
      ]
    },
    {
      "cell_type": "code",
      "execution_count": null,
      "metadata": {
        "id": "Pp6NRggps5UE"
      },
      "outputs": [],
      "source": [
        "# Alumno, inspeccione el dataset, visualice las columnas que posee y sus primeras filas\n",
        "df.head()"
      ]
    },
    {
      "cell_type": "code",
      "execution_count": null,
      "metadata": {
        "id": "7Sx5a9IetWLs"
      },
      "outputs": [],
      "source": [
        "# Alumno: Los algoritmos de clustering no funcionan bien con las variables categóricas,\n",
        "# obtener un nuevo dataset (df2) sin la columna CustomerID y Gender\n",
        "df2 = df.copy ()\n",
        "df2 = df2.drop(columns=['CustomerID', 'Gender'])\n",
        "df2.head()"
      ]
    },
    {
      "cell_type": "code",
      "execution_count": null,
      "metadata": {
        "id": "fQ3bTC9Ot5-h"
      },
      "outputs": [],
      "source": [
        "# Alumno, realice una inspeccion del dataset en búsqueda de elementos faltantes\n",
        "\n",
        "df2 = pd.read_csv(\"Mall_Customers.csv\")\n",
        "df2.isnull().sum()"
      ]
    },
    {
      "cell_type": "code",
      "execution_count": null,
      "metadata": {
        "id": "x88JG9AOeJzx"
      },
      "outputs": [],
      "source": [
        "# Alumno: ¿Cuántas filas/datos hay para analizar?\n",
        "\n",
        "df2 = pd.read_csv(\"Mall_Customers.csv\")\n",
        "df2.shape"
      ]
    },
    {
      "cell_type": "markdown",
      "metadata": {
        "id": "8T_3enyVHYJa"
      },
      "source": [
        "# Explorar datos\n",
        "<div align=\"center\"><img src=\"https://raw.githubusercontent.com/InoveAlumnos/dataset_analytics_python/master/images/Pipeline3.png\" width=\"1000\" align=\"middle\"></div>"
      ]
    },
    {
      "cell_type": "code",
      "execution_count": null,
      "metadata": {
        "id": "AT6v5vGXhfTl"
      },
      "outputs": [],
      "source": [
        "\n",
        "\n",
        "sns.pairplot(df2)"
      ]
    },
    {
      "cell_type": "code",
      "execution_count": null,
      "metadata": {
        "id": "8EAqWbUmvv0B"
      },
      "outputs": [],
      "source": [
        "# Alumno: Se puede observar que donde se ve claramente una segmentación de grupos\n",
        "# en en la relación de \"Annual Income\" y \"Spending Socre\"\n",
        "# Graficar unicamente la relación x=Annual Income con y=SpendingScore\n",
        "# con un scatter plot\n",
        "sns.scatterplot(x=df2[\"Annual Income\"], y=df2[\"SpedingScore\"])\n",
        "\n"
      ]
    },
    {
      "cell_type": "markdown",
      "metadata": {
        "id": "2gRIv88AKfQY"
      },
      "source": [
        "# Entrenar modelo\n",
        "<div align=\"center\"><img src=\"https://raw.githubusercontent.com/InoveAlumnos/dataset_analytics_python/master/images/Pipeline4.png\" width=\"1000\" align=\"middle\"></div>"
      ]
    },
    {
      "cell_type": "code",
      "execution_count": null,
      "metadata": {
        "id": "vstdWr9uiMEr"
      },
      "outputs": [],
      "source": [
        "# Almuno: Crear un numpy array \"X\" con los features de entrada (Annual Income y Spending Score)\n",
        "X= np.array ([\"Annual Income(k$)\"], [\"Speding Score(1-100)\"]).values\n",
        "\n",
        "\n"
      ]
    },
    {
      "cell_type": "markdown",
      "metadata": {
        "id": "dD2Qeok9ybNx"
      },
      "source": [
        "#### Crear un modelo de segmentación con Kmeans\n",
        "Parámetros\n",
        "- n_clusters --> (k) número de clusters/grupos (defecto 5)\n",
        "- init --> método utilizado para determianr donde comienzan los clusters\n",
        " - k-means++ --> mecanismo inteligente para determinar el comienzo (defecto)\n",
        " - random --> los centros se determinarn aleatoriamente\n",
        "- max_iter --> cantidad de iteración (defecto 300)"
      ]
    },
    {
      "cell_type": "code",
      "execution_count": null,
      "metadata": {
        "id": "k5K0rKwthUqy"
      },
      "outputs": [],
      "source": [
        "# Almuno: Entrenar diferentes modelos de Kmeans en un rango de cluster (2, 10)\n",
        "# Conservar el resultado de \"inertial\" para utilizar como métrica de selccion\n",
        "from sklearn.cluster import KMeans\n",
        "K = range(2, 10)\n",
        "inertial = []\n",
        "\n",
        "for k in K:\n",
        "    kmeans = KMeans(n_clusters=k)\n",
        "    kmeans.fit(X)\n",
        "    inertial.append(kmeans.inertia_)\n",
        "\n",
        "\n"
      ]
    },
    {
      "cell_type": "code",
      "execution_count": null,
      "metadata": {
        "id": "7FAigant1EkS"
      },
      "outputs": [],
      "source": [
        "# Dibujar la evolucion del error (inertia) y deteminar el\n",
        "# punto de quiebre (elbow point) para deteminar el mejor k\n",
        "inertia_df = pd.DataFrame({'K': K, 'inertia': inertial})\n",
        "inertia_df.head()\n"
      ]
    },
    {
      "cell_type": "code",
      "execution_count": null,
      "metadata": {
        "id": "fivxbc9PEFOu"
      },
      "outputs": [],
      "source": [
        "\n",
        "# Alumno: Entrenar el modelo con el mejor \"K\" encontrado\n",
        "# y determinar los labels\n",
        "kmeans = KMeans(n_clusters=4)\n",
        "kmeans.fit(X)\n",
        "labels = kmeans.labels_\n",
        "labels"
      ]
    },
    {
      "cell_type": "code",
      "execution_count": null,
      "metadata": {
        "id": "ad76vntQ1jzs"
      },
      "outputs": [],
      "source": [
        "# Alumno: Sumar la columna de labels con el nombre de custseg (customer segmentation)\n",
        "# a su dataset\n",
        "\n",
        "labels.shape\n",
        "df2[\"custseg\"] = labels\n",
        "df2.head()"
      ]
    },
    {
      "cell_type": "markdown",
      "metadata": {
        "id": "Y1HVAZeONzsu"
      },
      "source": [
        "# Validar modelo\n",
        "<img src=\"https://raw.githubusercontent.com/InoveAlumnos/dataset_analytics_python/master/images/Pipeline5.png\" width=\"1000\" align=\"middle\">"
      ]
    },
    {
      "cell_type": "code",
      "execution_count": null,
      "metadata": {
        "id": "SNyj1SjfMZso"
      },
      "outputs": [],
      "source": [
        "# Alumno: Calcular la exactitud (accuracy) del modelo\n",
        "\n",
        "from sklearn.metrics import accuracy_score\n",
        "accuracy_score(df2[\"custseg\"], labels)"
      ]
    },
    {
      "cell_type": "markdown",
      "metadata": {
        "id": "JZZbCJICOFjb"
      },
      "source": [
        "# Utilizar modelo\n",
        "<img src=\"https://raw.githubusercontent.com/InoveAlumnos/dataset_analytics_python/master/images/Pipeline6.png\" width=\"1000\" align=\"middle\">"
      ]
    },
    {
      "cell_type": "code",
      "execution_count": null,
      "metadata": {
        "id": "Si_GLqaRN-nK"
      },
      "outputs": [],
      "source": [
        "# Alumno: Volver a repetir el gráfico de scatter \"Annual Income\" y \"Spending Socre\"\n",
        "# pero ahora coloreando con \"hue\" los puntos según su clase de custseg\n",
        "\n",
        "sns.scatterplot(x=df2[\"Annual Income\"], y=df2[\"SpedingScore\"], hue=df2[\"custseg\"])"
      ]
    }
  ],
  "metadata": {
    "colab": {
      "provenance": []
    },
    "kernelspec": {
      "display_name": "Python 3",
      "language": "python",
      "name": "python3"
    },
    "language_info": {
      "codemirror_mode": {
        "name": "ipython",
        "version": 3
      },
      "file_extension": ".py",
      "mimetype": "text/x-python",
      "name": "python",
      "nbconvert_exporter": "python",
      "pygments_lexer": "ipython3",
      "version": "3.7.0"
    }
  },
  "nbformat": 4,
  "nbformat_minor": 0
}